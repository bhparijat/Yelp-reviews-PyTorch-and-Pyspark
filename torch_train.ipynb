{
 "cells": [
  {
   "cell_type": "code",
   "execution_count": 1,
   "metadata": {},
   "outputs": [],
   "source": [
    "import torch\n",
    "import torch.nn as nn\n",
    "import torch.functional as F\n",
    "import torch.optim as optim\n",
    "import torchvision\n",
    "import numpy as np\n",
    "import pandas as pd\n",
    "from torch.utils.data import DataLoader,Dataset, random_split\n",
    "import matplotlib.pyplot as plt\n",
    "import random \n",
    "import time\n",
    "from tqdm import tqdm_notebook as tq\n",
    "import warnings\n",
    "import pickle as pkl\n",
    "warnings.filterwarnings(\"ignore\")\n",
    "import string\n",
    "import sys\n",
    "from nltk.corpus import stopwords\n",
    "from torch.autograd import Variable\n",
    "plt.ion()"
   ]
  },
  {
   "cell_type": "code",
   "execution_count": 2,
   "metadata": {},
   "outputs": [],
   "source": [
    "BATCH_SIZE = 32\n",
    "epochs = 10\n",
    "num_class = 2\n",
    "embed_dim = 100"
   ]
  },
  {
   "cell_type": "code",
   "execution_count": 3,
   "metadata": {},
   "outputs": [],
   "source": [
    "device = torch.device(\"gpu\" if torch.cuda.is_available() else \"cpu\")"
   ]
  },
  {
   "cell_type": "code",
   "execution_count": 5,
   "metadata": {},
   "outputs": [],
   "source": [
    "class YelpReviewsSentimentAnalysis(nn.Module):\n",
    "    \n",
    "    def __init__(self,vocab_size,embed_dim,num_class):\n",
    "        super().__init__()\n",
    "        self.embedding = nn.EmbeddingBag(vocab_size, embed_dim, sparse=True)\n",
    "        self.fc = nn.Linear(embed_dim, num_class)\n",
    "        self.init_weights()\n",
    "        \n",
    "    def init_weights(self):\n",
    "        initrange = 0.5\n",
    "        self.embedding.weight.data.uniform_(-initrange, initrange)\n",
    "        self.fc.weight.data.uniform_(-initrange, initrange)\n",
    "        self.fc.bias.data.zero_()\n",
    "        \n",
    "    def forward(self, text, offsets):\n",
    "        embedded = self.embedding(text, offsets)\n",
    "        return self.fc(embedded)"
   ]
  },
  {
   "cell_type": "code",
   "execution_count": 6,
   "metadata": {},
   "outputs": [],
   "source": [
    "class YelpDataset(Dataset):\n",
    "    \n",
    "    def __init__(self,json_file,threshold=3):\n",
    "        \n",
    "        self.raw_data = pd.read_json(json_file,lines=True)\n",
    "    \n",
    "        self.raw_data['label'] = self.raw_data.stars.apply(lambda x : 1 if x>=3 else 0)\n",
    "        \n",
    "        self.raw_data = self.raw_data[[\"label\",\"text\"]].iloc[:100000,]\n",
    "        \n",
    "        self.word2idx = {}\n",
    "        \n",
    "        self.idx2word = {}\n",
    "        \n",
    "        self.word2freq = {}\n",
    "        self.word_count = 0\n",
    "        \n",
    "        self.maxLen = 0\n",
    "        self.__init__preprocess()\n",
    "        \n",
    "        self.data = self.raw_data.to_numpy()\n",
    "   \n",
    "        \n",
    "       \n",
    "        \n",
    "    def __len__(self):\n",
    "        return self.data.shape[0]\n",
    "    \n",
    "    \n",
    "    def __getitem__(self,idx):\n",
    "        \n",
    "        \n",
    "        sample = self.data[idx,:]\n",
    "            \n",
    "        return sample\n",
    "    \n",
    "    def __init__preprocess(self):\n",
    "        \n",
    "        \n",
    "        def clean(text):\n",
    "            text = text.lower()\n",
    "        \n",
    "            text = [ch for ch in text if ch not in string.punctuation]\n",
    "\n",
    "\n",
    "            text = \"\".join(text)\n",
    "\n",
    "            text = [c for c in text if c == \" \" or c.isalnum()]\n",
    "\n",
    "            text = \"\".join(text)\n",
    "\n",
    "            stop_words = set(stopwords.words(\"english\"))\n",
    "\n",
    "            text = text.split(\" \")\n",
    "\n",
    "            text = [word for word in text if word not in stop_words]\n",
    "        \n",
    "        \n",
    "            text = \" \".join(text)\n",
    "            \n",
    "            return text\n",
    "          \n",
    "            \n",
    "        def build_vocab(text):\n",
    "            \n",
    "            \n",
    "            text = text.split(\" \")\n",
    "            \n",
    "            text_token = []\n",
    "            \n",
    "            for word in text:\n",
    "                \n",
    "                if word not in self.word2idx:\n",
    "                    \n",
    "                    self.word2idx[word] = self.word_count\n",
    "                    \n",
    "                    self.idx2word[self.word_count] = word\n",
    "                    \n",
    "                    self.word_count+=1\n",
    "                    \n",
    "                    \n",
    "                text_token.append(self.word2idx[word])\n",
    "             \n",
    "            self.maxLen = max(self.maxLen,len(text_token))\n",
    "            return text_token\n",
    "        \n",
    "        self.raw_data['text'] = self.raw_data.text.apply(lambda x : clean(x))\n",
    "        self.raw_data['text'] = self.raw_data.text.apply(lambda x : build_vocab(x))"
   ]
  },
  {
   "cell_type": "code",
   "execution_count": null,
   "metadata": {},
   "outputs": [],
   "source": []
  },
  {
   "cell_type": "code",
   "execution_count": 7,
   "metadata": {},
   "outputs": [],
   "source": [
    "def collate_offset(batch):\n",
    "    \n",
    "    text = [torch.tensor(x[1]) for x in batch]\n",
    "    \n",
    "    label = torch.tensor([x[0] for x in batch])\n",
    "    offsets = [0] + [len(x) for x in text]\n",
    "    offsets = torch.tensor(offsets[:-1]).cumsum(dim=0)\n",
    "    \n",
    "    text = torch.cat(text)\n",
    "    \n",
    "    return text, offsets, label"
   ]
  },
  {
   "cell_type": "code",
   "execution_count": 40,
   "metadata": {},
   "outputs": [],
   "source": [
    "def train_func(train):\n",
    "    \n",
    "    train_data = DataLoader(train,batch_size=BATCH_SIZE,shuffle=True,collate_fn=collate_offset,num_workers=4)\n",
    "    \n",
    "    train_loss = 0\n",
    "    train_acc = 0\n",
    "    for i, (text, offsets, label) in enumerate(train_data):\n",
    "        optimizer.zero_grad()\n",
    "        \n",
    "        text, offsets, label = text.to(device), offsets.to(device), label.to(device)\n",
    "        \n",
    "    \n",
    "        output = model(text, offsets)\n",
    "        \n",
    "        loss = criterion(output, label)\n",
    "        \n",
    "        #loss = Variable(loss,requires_grad=True)\n",
    "        \n",
    "        train_loss += loss.item()\n",
    "        \n",
    "        loss.backward()\n",
    "        optimizer.step()\n",
    "        \n",
    "        train_acc += (output.argmax(1) == label).sum().item()\n",
    "\n",
    "    \n",
    "    scheduler.step()\n",
    "    \n",
    "    return train_loss / len(train), train_acc / len(train)\n",
    "        "
   ]
  },
  {
   "cell_type": "code",
   "execution_count": 45,
   "metadata": {},
   "outputs": [],
   "source": [
    "def test_func(test):\n",
    "    \n",
    "    test_data = DataLoader(test,batch_size=BATCH_SIZE,shuffle=True,collate_fn=collate_offset,num_workers=4)\n",
    "    \n",
    "    test_loss = 0\n",
    "    test_acc = 0\n",
    "    \n",
    "    for i, (text, offsets, label) in enumerate(test_data):\n",
    "        \n",
    "        text, offsets, label = text.to(device), offsets.to(device), label.to(device)\n",
    "\n",
    "        with torch.no_grad():\n",
    "            \n",
    "            output = model(text, offsets)\n",
    "\n",
    "            loss = criterion(output, label)\n",
    "            \n",
    "            #loss = Variable(loss,requires_grad=True)\n",
    "            \n",
    "            test_loss += loss.item()\n",
    "            \n",
    "           \n",
    "            test_acc += (output.argmax(1) == label).sum().item()   \n",
    "    \n",
    "    return test_loss / len(test), test_acc / len(test)"
   ]
  },
  {
   "cell_type": "code",
   "execution_count": 46,
   "metadata": {},
   "outputs": [
    {
     "name": "stdout",
     "output_type": "stream",
     "text": [
      "Time Taken to for dataset preprocessing is 3.930955235163371 minutes...\n",
      "Length of training dataset is 80000\n",
      "Length of validation dataset is 10000\n",
      "model_0.pkl saved..\n",
      "Time Taken to complete epoch is 0.36666666666666664 minutes...\n",
      "model_1.pkl saved..\n",
      "Time Taken to complete epoch is 0.36666666666666664 minutes...\n",
      "model_2.pkl saved..\n",
      "Time Taken to complete epoch is 0.38333333333333336 minutes...\n",
      "model_3.pkl saved..\n",
      "Time Taken to complete epoch is 0.4 minutes...\n",
      "model_4.pkl saved..\n",
      "Time Taken to complete epoch is 0.36666666666666664 minutes...\n",
      "model_5.pkl saved..\n",
      "Time Taken to complete epoch is 0.36666666666666664 minutes...\n",
      "model_6.pkl saved..\n",
      "Time Taken to complete epoch is 0.38333333333333336 minutes...\n",
      "model_7.pkl saved..\n",
      "Time Taken to complete epoch is 0.36666666666666664 minutes...\n",
      "model_8.pkl saved..\n",
      "Time Taken to complete epoch is 0.38333333333333336 minutes...\n",
      "model_9.pkl saved..\n",
      "Time Taken to complete epoch is 0.38333333333333336 minutes...\n"
     ]
    }
   ],
   "source": [
    "if __name__ == \"__main__\":\n",
    "    \n",
    "    \n",
    "    \n",
    "    start_time = time.time()\n",
    "    yelp_dataset = YelpDataset(json_file = \"~/data/yelp/review.json\")\n",
    "    \n",
    "    print(\"Time Taken to for dataset preprocessing is {} minutes...\".format((time.time()-start_time)/60))\n",
    "    \n",
    "    \n",
    "    train_len = int(len(yelp_dataset)*0.8)\n",
    "    \n",
    "    valid_len = int(len(yelp_dataset)*0.1)\n",
    "    \n",
    "    test_len = len(yelp_dataset) - train_len -valid_len\n",
    "    \n",
    "    train,valid,test = random_split(yelp_dataset,[train_len,valid_len,test_len])\n",
    "    \n",
    "    \n",
    "    \n",
    "    print(\"Length of training dataset is {}\".format(train_len))\n",
    "          \n",
    "    print(\"Length of validation dataset is {}\".format(valid_len))\n",
    "          \n",
    "      \n",
    "    model = YelpReviewsSentimentAnalysis(yelp_dataset.word_count,embed_dim, num_class)\n",
    "    \n",
    "    \n",
    "    criterion = torch.nn.CrossEntropyLoss().to(device)\n",
    "    optimizer = torch.optim.SGD(model.parameters(), lr=4.0)\n",
    "    \n",
    "    scheduler = torch.optim.lr_scheduler.StepLR(optimizer, 1, gamma=0.9)\n",
    "     \n",
    "    tl_,ta_ = [],[]\n",
    "    vl_,va_ = [],[]\n",
    "    \n",
    "    for epch in range(epochs):\n",
    "          \n",
    "        start_time = time.time()\n",
    "        train_loss, train_acc = train_func(train)\n",
    "        valid_loss, valid_acc = test_func(valid)\n",
    "\n",
    "        tl_.append(train_loss)\n",
    "        ta_.append(train_acc)\n",
    "        \n",
    "        \n",
    "        vl_.append(valid_loss)\n",
    "        va_.append(valid_acc)\n",
    "        \n",
    "        \n",
    "        secs = int(time.time() - start_time)\n",
    "        mins = secs / 60\n",
    "        \n",
    "        \n",
    "        \n",
    "        name = \"model_\"+str(epch)+\".pkl\"\n",
    "        with open(name,\"wb\") as file:\n",
    "            pkl.dump(model,file)\n",
    "            \n",
    "        print(\"{} saved..\".format(name))\n",
    "        print(\"Time Taken to complete epoch is {} minutes...\".format(mins))"
   ]
  },
  {
   "cell_type": "code",
   "execution_count": 47,
   "metadata": {},
   "outputs": [
    {
     "data": {
      "text/plain": [
       "[<matplotlib.lines.Line2D at 0x7f5325862250>]"
      ]
     },
     "execution_count": 47,
     "metadata": {},
     "output_type": "execute_result"
    },
    {
     "data": {
      "image/png": "[encoded data removed]",
      "text/plain": [
       "<Figure size 720x576 with 1 Axes>"
      ]
     },
     "metadata": {
      "needs_background": "light"
     },
     "output_type": "display_data"
    }
   ],
   "source": [
    "plt.figure(figsize=(10,8))\n",
    "plt.plot(tl_)"
   ]
  },
  {
   "cell_type": "code",
   "execution_count": 48,
   "metadata": {},
   "outputs": [
    {
     "data": {
      "text/plain": [
       "[0.8899875,\n",
       " 0.9192875,\n",
       " 0.92635,\n",
       " 0.93205,\n",
       " 0.93545,\n",
       " 0.938625,\n",
       " 0.942275,\n",
       " 0.9442,\n",
       " 0.947225,\n",
       " 0.948375]"
      ]
     },
     "execution_count": 48,
     "metadata": {},
     "output_type": "execute_result"
    }
   ],
   "source": [
    "ta_"
   ]
  },
  {
   "cell_type": "code",
   "execution_count": 49,
   "metadata": {},
   "outputs": [
    {
     "data": {
      "text/plain": [
       "[0.9057, 0.914, 0.9124, 0.9149, 0.914, 0.9148, 0.9138, 0.9124, 0.9134, 0.9128]"
      ]
     },
     "execution_count": 49,
     "metadata": {},
     "output_type": "execute_result"
    }
   ],
   "source": [
    "va_"
   ]
  },
  {
   "cell_type": "code",
   "execution_count": 20,
   "metadata": {},
   "outputs": [],
   "source": [
    "with open(\"model_1.pkl\",\"rb\") as file:\n",
    "    model_1 = pkl.load(file)"
   ]
  },
  {
   "cell_type": "code",
   "execution_count": 21,
   "metadata": {},
   "outputs": [],
   "source": [
    "with open(\"model_9.pkl\",\"rb\") as file:\n",
    "    model_9 = pkl.load(file)"
   ]
  },
  {
   "cell_type": "code",
   "execution_count": 50,
   "metadata": {},
   "outputs": [],
   "source": [
    "#model_1.fc.weight"
   ]
  },
  {
   "cell_type": "code",
   "execution_count": 51,
   "metadata": {},
   "outputs": [],
   "source": [
    "#model_9.fc.weight.data"
   ]
  },
  {
   "cell_type": "code",
   "execution_count": 24,
   "metadata": {},
   "outputs": [],
   "source": [
    "#w1 = model_1.fc.weight"
   ]
  },
  {
   "cell_type": "code",
   "execution_count": 26,
   "metadata": {},
   "outputs": [],
   "source": [
    "#w2 = model_9.fc.weight"
   ]
  },
  {
   "cell_type": "code",
   "execution_count": 27,
   "metadata": {},
   "outputs": [],
   "source": [
    "#w9 = model_9.fc.weight"
   ]
  },
  {
   "cell_type": "code",
   "execution_count": 52,
   "metadata": {},
   "outputs": [],
   "source": [
    "#torch.all(torch.eq(w1, w2))"
   ]
  },
  {
   "cell_type": "code",
   "execution_count": 53,
   "metadata": {},
   "outputs": [],
   "source": [
    "#yelp_dataset.data[10]"
   ]
  },
  {
   "cell_type": "code",
   "execution_count": 54,
   "metadata": {},
   "outputs": [],
   "source": [
    "test_loss, test_acc = test_func(test)"
   ]
  },
  {
   "cell_type": "code",
   "execution_count": 55,
   "metadata": {},
   "outputs": [
    {
     "data": {
      "text/plain": [
       "0.9184"
      ]
     },
     "execution_count": 55,
     "metadata": {},
     "output_type": "execute_result"
    }
   ],
   "source": [
    "test_acc"
   ]
  },
  {
   "cell_type": "code",
   "execution_count": null,
   "metadata": {},
   "outputs": [],
   "source": []
  }
 ],
 "metadata": {
  "kernelspec": {
   "display_name": "Python 3",
   "language": "python",
   "name": "python3"
  },
  "language_info": {
   "codemirror_mode": {
    "name": "ipython",
    "version": 3
   },
   "file_extension": ".py",
   "mimetype": "text/x-python",
   "name": "python",
   "nbconvert_exporter": "python",
   "pygments_lexer": "ipython3",
   "version": "3.7.5"
  }
 },
 "nbformat": 4,
 "nbformat_minor": 2
}
