{
 "cells": [
  {
   "cell_type": "code",
   "execution_count": 1,
   "metadata": {},
   "outputs": [],
   "source": [
    "import torch\n",
    "import torch.nn as nn\n",
    "import torch.functional as F\n",
    "import torch.optim as optim\n",
    "import torchvision\n",
    "import numpy as np\n",
    "import pandas as pd\n",
    "from torch.utils.data import DataLoader,Dataset\n",
    "import matplotlib.pyplot as plt\n",
    "import random \n",
    "import time\n",
    "from tqdm import tqdm_notebook as tq\n",
    "import warnings\n",
    "import pickle as pkl\n",
    "warnings.filterwarnings(\"ignore\")\n",
    "import string\n",
    "import sys\n",
    "from nltk.corpus import stopwords\n",
    "plt.ion()"
   ]
  },
  {
   "cell_type": "code",
   "execution_count": 2,
   "metadata": {},
   "outputs": [
    {
     "name": "stdout",
     "output_type": "stream",
     "text": [
      "1.18.1\n",
      "\n"
     ]
    }
   ],
   "source": [
    "print(np.__version__)\n",
    "print()"
   ]
  },
  {
   "cell_type": "code",
   "execution_count": null,
   "metadata": {},
   "outputs": [],
   "source": []
  },
  {
   "cell_type": "code",
   "execution_count": 10,
   "metadata": {},
   "outputs": [],
   "source": [
    "from torchvision import transforms"
   ]
  },
  {
   "cell_type": "code",
   "execution_count": null,
   "metadata": {},
   "outputs": [],
   "source": [
    "device = torch.device(\"gpu\" if torch.cuda.is_available() else \"cpu\")"
   ]
  },
  {
   "cell_type": "code",
   "execution_count": 7,
   "metadata": {},
   "outputs": [],
   "source": [
    "class YelpReviewsSentimentAnalysis(nn.Module):\n",
    "    def __init__(self,vocab_size,num_class):\n",
    "        pass"
   ]
  },
  {
   "cell_type": "code",
   "execution_count": 16,
   "metadata": {},
   "outputs": [],
   "source": [
    "class YelpDataset(Dataset):\n",
    "    \n",
    "    def __init__(self,json_file,transform=None):\n",
    "        \n",
    "        self.data = pd.read_json(json_file,lines=True)\n",
    "        \n",
    "        #self.data = data[[\"\"]]\n",
    "        \n",
    "    def __len__(self):\n",
    "        return self.data.shape[0]\n",
    "    \n",
    "    def __getitem__(self,idx):\n",
    "        \n",
    "        return self.data.iloc[idx,:]"
   ]
  },
  {
   "cell_type": "code",
   "execution_count": 17,
   "metadata": {},
   "outputs": [],
   "source": [
    "class CleanData(object):\n",
    "    def __init__(self,th):\n",
    "        self.threshold = th\n",
    "        \n",
    "    def __call__(self,sample):\n",
    "        \n",
    "        sample.text = text.lower()\n",
    "        \n",
    "        sample.text = [ch for ch in sample.text if ch not in string.punctuation]\n",
    "\n",
    "        \n",
    "        sample.text = \"\".join(sample.text)\n",
    "        \n",
    "        sample.text = [c for c in sample.text if c == \" \" or c.isalnum()]\n",
    "        \n",
    "        sample.text = \"\".join(sample.text)\n",
    "        \n",
    "        stop_words = set(stopwords.words(\"english\"))\n",
    "\n",
    "        sample.text = sample.text.split(\" \")\n",
    "\n",
    "        sample.text = [word for word in sample.text if word not in stop_words]\n",
    "        \n",
    "        \n",
    "        sample.text = \" \".join(sample.text)\n",
    "        \n",
    "        sample['label']=  1 if sample.stars >=self.threshold else 0\n",
    "        \n",
    "        return sample"
   ]
  },
  {
   "cell_type": "code",
   "execution_count": 18,
   "metadata": {},
   "outputs": [],
   "source": [
    "def get_batch(batch):\n",
    "    pass"
   ]
  },
  {
   "cell_type": "code",
   "execution_count": 19,
   "metadata": {},
   "outputs": [
    {
     "name": "stdout",
     "output_type": "stream",
     "text": [
      "review_id                                 Q1sbwvVQXV2734tPgoKj4Q\n",
      "user_id                                   hG7b0MtEbXx5QzbzE6C_VA\n",
      "business_id                               ujmEBvifdJM6h6RLv4wQIg\n",
      "stars                                                          1\n",
      "useful                                                         6\n",
      "funny                                                          1\n",
      "cool                                                           0\n",
      "text           Total bill for this horrible service? Over $8G...\n",
      "date                                         2013-05-07 04:34:36\n",
      "Name: 0, dtype: object\n",
      "6685900\n"
     ]
    }
   ],
   "source": [
    "if __name__ == \"__main__\":\n",
    "    \n",
    "    tsf = transforms.Compose([CleanData(3)])\n",
    "    \n",
    "    yelp_dataset = YelpDataset(json_file = \"~/data/yelp/review.json\",transform = tsf)\n",
    "    \n",
    "    print(yelp_dataset[0])\n",
    "    \n",
    "    print(len(yelp_dataset))\n",
    "    "
   ]
  },
  {
   "cell_type": "code",
   "execution_count": null,
   "metadata": {},
   "outputs": [],
   "source": []
  }
 ],
 "metadata": {
  "kernelspec": {
   "display_name": "Python 3",
   "language": "python",
   "name": "python3"
  },
  "language_info": {
   "codemirror_mode": {
    "name": "ipython",
    "version": 3
   },
   "file_extension": ".py",
   "mimetype": "text/x-python",
   "name": "python",
   "nbconvert_exporter": "python",
   "pygments_lexer": "ipython3",
   "version": "3.7.5"
  }
 },
 "nbformat": 4,
 "nbformat_minor": 2
}
